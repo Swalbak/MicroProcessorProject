{
 "cells": [
  {
   "cell_type": "code",
   "execution_count": null,
   "metadata": {},
   "outputs": [],
   "source": [
    "for user in user_names_select:\n",
    "    with open(f'./{user}/known_face_encodings.pickle', 'rb') as f:\n",
    "        encoding = pickle.load(f)\n",
    "    known_face_encodings.extend(encoding)\n",
    "    user_names.extend([user] * len(encoding))"
   ]
  },
  {
   "cell_type": "code",
   "execution_count": 5,
   "metadata": {},
   "outputs": [],
   "source": [
    "a = []"
   ]
  },
  {
   "cell_type": "code",
   "execution_count": 6,
   "metadata": {},
   "outputs": [],
   "source": [
    "a.extend(['aaa']*3)"
   ]
  },
  {
   "cell_type": "code",
   "execution_count": 8,
   "metadata": {},
   "outputs": [],
   "source": [
    "a.extend(['bbb']*3)"
   ]
  },
  {
   "cell_type": "code",
   "execution_count": 9,
   "metadata": {},
   "outputs": [
    {
     "data": {
      "text/plain": [
       "['aaa', 'aaa', 'aaa', 'bbb', 'bbb', 'bbb']"
      ]
     },
     "execution_count": 9,
     "metadata": {},
     "output_type": "execute_result"
    }
   ],
   "source": [
    "a"
   ]
  },
  {
   "cell_type": "code",
   "execution_count": 1,
   "metadata": {},
   "outputs": [],
   "source": [
    "from gpt_module import gpt_response\n",
    "import openai\n",
    "from config import key_config\n",
    "\n",
    "openai.api_key = key_config['gpt_apikey']\n",
    "a = gpt_response()"
   ]
  },
  {
   "cell_type": "code",
   "execution_count": 7,
   "metadata": {},
   "outputs": [
    {
     "data": {
      "text/plain": [
       "<OpenAIObject at 0x189db96b880> JSON: {\n",
       "  \"content\": \"\\uc721\\uc815\\ud6c8, \\uacf5\\ubd80 \\uc5f4\\uc2ec\\ud788 \\n\\ub17c\\ub9ac\\ub825 \\ub2e8\\ub2e8\\ud788 \\n\\ubbf8\\ub798 \\ube5b\\ub098\\ub9ac\\ub77c\",\n",
       "  \"role\": \"assistant\"\n",
       "}"
      ]
     },
     "execution_count": 7,
     "metadata": {},
     "output_type": "execute_result"
    }
   ],
   "source": [
    "a"
   ]
  },
  {
   "cell_type": "code",
   "execution_count": 2,
   "metadata": {},
   "outputs": [
    {
     "data": {
      "text/plain": [
       "[<OpenAIObject at 0x20c69db7740> JSON: {\n",
       "   \"content\": \"\\uc721\\uc815\\ud6c8\\ub2d8, \\ubbf8\\uc18c\\ub294 \\ud5a5\\uae30\\ub86d\\uace0 \\ubab8\\uc740 \\uac74\\uac15\\ud558\\uba70,\\n\\ubc1d\\uc740 \\uc131\\uaca9\\uc740 \\uc0ac\\ub78c\\ub4e4\\uc744 \\uc990\\uac81\\uac8c \\ub9cc\\ub4e4\\uc5b4\\uc694.\\n\\uba4b\\uc9c4 \\uc778\",\n",
       "   \"role\": \"assistant\"\n",
       " }]"
      ]
     },
     "execution_count": 2,
     "metadata": {},
     "output_type": "execute_result"
    }
   ],
   "source": [
    "messages = []\n",
    "messages.append(a)\n",
    "messages"
   ]
  },
  {
   "cell_type": "code",
   "execution_count": 20,
   "metadata": {},
   "outputs": [],
   "source": [
    "from config import key_config\n",
    "import openai\n",
    "\n",
    "openai.api_key = key_config['gpt_apikey']\n",
    "\n",
    "def gpt_response(messages):\n",
    "    response = openai.ChatCompletion.create(\n",
    "    model=\"gpt-3.5-turbo-0301\",\n",
    "    messages=messages,\n",
    "    max_tokens=60\n",
    "    )\n",
    "    messages.append(response['choices'][0]['message'])\n",
    "\n",
    "    return messages, response['choices'][0]['message']\n",
    "    # print(response['choices'][0]['message']['content'])"
   ]
  },
  {
   "cell_type": "code",
   "execution_count": 1,
   "metadata": {},
   "outputs": [],
   "source": [
    "messages=[\n",
    "        {\"role\": \"system\", \"content\": \"안녕하세요, 육정훈님! 무엇을 도와드릴까요?\"},\n",
    "        {\"role\": \"user\", \"content\": \"내 이름으로 삼행시 지어줘\"}\n",
    "    ]"
   ]
  },
  {
   "cell_type": "code",
   "execution_count": 2,
   "metadata": {},
   "outputs": [],
   "source": [
    "from gpt_module import gpt_response\n",
    "\n",
    "messages, ans = gpt_response(messages=messages)"
   ]
  },
  {
   "cell_type": "code",
   "execution_count": 31,
   "metadata": {},
   "outputs": [],
   "source": [
    "messages, ans = gpt_response(messages=messages)"
   ]
  },
  {
   "cell_type": "code",
   "execution_count": 32,
   "metadata": {},
   "outputs": [
    {
     "data": {
      "text/plain": [
       "'육감으로 감정 선사하는\\n정열적인 정신력의 소유자\\n훈련 받은 연기력이 돋보이는 육정훈!'"
      ]
     },
     "execution_count": 32,
     "metadata": {},
     "output_type": "execute_result"
    }
   ],
   "source": [
    "ans['content']"
   ]
  },
  {
   "cell_type": "code",
   "execution_count": 33,
   "metadata": {},
   "outputs": [],
   "source": [
    "messages.append({\"role\": \"user\", \"content\": \"고마워!\"})"
   ]
  },
  {
   "cell_type": "code",
   "execution_count": 34,
   "metadata": {},
   "outputs": [],
   "source": [
    "messages, ans = gpt_response(messages = messages)"
   ]
  },
  {
   "cell_type": "code",
   "execution_count": 35,
   "metadata": {},
   "outputs": [
    {
     "data": {
      "text/plain": [
       "'천만에요! 더 도와드릴 게 있으면 언제든지 말씀해주세요.'"
      ]
     },
     "execution_count": 35,
     "metadata": {},
     "output_type": "execute_result"
    }
   ],
   "source": [
    "ans['content']"
   ]
  },
  {
   "cell_type": "code",
   "execution_count": 36,
   "metadata": {},
   "outputs": [
    {
     "data": {
      "text/plain": [
       "[{'role': 'system', 'content': '안녕하세요, 육정훈님! 무엇을 도와드릴까요?'},\n",
       " {'role': 'user', 'content': '내 이름으로 삼행시 지어줘'},\n",
       " <OpenAIObject at 0x20c69e1ed90> JSON: {\n",
       "   \"content\": \"\\uc721\\uac10\\uc73c\\ub85c \\uac10\\uc815 \\uc120\\uc0ac\\ud558\\ub294\\n\\uc815\\uc5f4\\uc801\\uc778 \\uc815\\uc2e0\\ub825\\uc758 \\uc18c\\uc720\\uc790\\n\\ud6c8\\ub828 \\ubc1b\\uc740 \\uc5f0\\uae30\\ub825\\uc774 \\ub3cb\\ubcf4\\uc774\\ub294 \\uc721\\uc815\\ud6c8!\",\n",
       "   \"role\": \"assistant\"\n",
       " },\n",
       " {'role': 'user', 'content': '고마워!'},\n",
       " <OpenAIObject at 0x20c6a9028e0> JSON: {\n",
       "   \"content\": \"\\ucc9c\\ub9cc\\uc5d0\\uc694! \\ub354 \\ub3c4\\uc640\\ub4dc\\ub9b4 \\uac8c \\uc788\\uc73c\\uba74 \\uc5b8\\uc81c\\ub4e0\\uc9c0 \\ub9d0\\uc500\\ud574\\uc8fc\\uc138\\uc694.\",\n",
       "   \"role\": \"assistant\"\n",
       " }]"
      ]
     },
     "execution_count": 36,
     "metadata": {},
     "output_type": "execute_result"
    }
   ],
   "source": [
    "messages"
   ]
  },
  {
   "cell_type": "code",
   "execution_count": null,
   "metadata": {},
   "outputs": [],
   "source": []
  }
 ],
 "metadata": {
  "kernelspec": {
   "display_name": "Python 3",
   "language": "python",
   "name": "python3"
  },
  "language_info": {
   "codemirror_mode": {
    "name": "ipython",
    "version": 3
   },
   "file_extension": ".py",
   "mimetype": "text/x-python",
   "name": "python",
   "nbconvert_exporter": "python",
   "pygments_lexer": "ipython3",
   "version": "3.10.7"
  },
  "orig_nbformat": 4
 },
 "nbformat": 4,
 "nbformat_minor": 2
}
